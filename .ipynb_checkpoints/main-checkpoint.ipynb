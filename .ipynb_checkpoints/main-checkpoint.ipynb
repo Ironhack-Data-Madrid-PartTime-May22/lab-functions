{
 "cells": [
  {
   "cell_type": "markdown",
   "metadata": {},
   "source": [
    "# Functions"
   ]
  },
  {
   "cell_type": "markdown",
   "metadata": {},
   "source": [
    "On this lab we will put to practice some of the concepts we have learned on this past few days.\n",
    "\n",
    "`NOTE: On this lab you should try to write all the functions yourself using only the most basic of python syntax and without functions such as len, count, sum, max, min, in, etc. Give it a try. 🧑🏻‍💻👩🏻‍💻`\n",
    "\n",
    "The cell after each exercise contains a few tests to check if your function works as expected."
   ]
  },
  {
   "cell_type": "code",
   "execution_count": 154,
   "metadata": {},
   "outputs": [],
   "source": [
    "from mod.testing import *\n",
    "import unittest     "
   ]
  },
  {
   "cell_type": "markdown",
   "metadata": {},
   "source": [
    "## 1. Write a function that returns the greater of two numbers"
   ]
  },
  {
   "cell_type": "code",
   "execution_count": 155,
   "metadata": {},
   "outputs": [
    {
     "name": "stdout",
     "output_type": "stream",
     "text": [
      "Give me a number: 2\n",
      "Give me another one: 3\n",
      "3 is greater than 2\n"
     ]
    },
    {
     "data": {
      "text/plain": [
       "3"
      ]
     },
     "execution_count": 155,
     "metadata": {},
     "output_type": "execute_result"
    }
   ],
   "source": [
    "def greater(a,b):\n",
    "    if a > b:\n",
    "        print(f'{a} is greater than {b}')\n",
    "        return a\n",
    "    elif a < b:\n",
    "        print(f'{b} is greater than {a}')\n",
    "        return b\n",
    "    else:\n",
    "        print(f'{a} equals to {b}')\n",
    "        return a==b\n",
    "greater(a = int(input(\"Give me a number: \")), b = int(input(\"Give me another one: \")))"
   ]
  },
  {
   "cell_type": "code",
   "execution_count": 156,
   "metadata": {},
   "outputs": [
    {
     "name": "stderr",
     "output_type": "stream",
     "text": [
      "....................................................................................................\n",
      "----------------------------------------------------------------------\n",
      "Ran 100 tests in 0.089s\n",
      "\n",
      "OK\n"
     ]
    },
    {
     "name": "stdout",
     "output_type": "stream",
     "text": [
      "-341 is greater than -854\n",
      "908 is greater than -157\n",
      "-876 is greater than -925\n",
      "-157 is greater than -591\n",
      "807 is greater than 602\n",
      "861 is greater than 281\n",
      "770 is greater than -505\n",
      "436 is greater than 20\n",
      "615 is greater than -850\n",
      "-586 is greater than -597\n",
      "873 is greater than -117\n",
      "-791 is greater than -824\n",
      "386 is greater than -943\n",
      "-197 is greater than -574\n",
      "846 is greater than 11\n",
      "208 is greater than -561\n",
      "836 is greater than -215\n",
      "92 is greater than -422\n",
      "722 is greater than -35\n",
      "178 is greater than -920\n",
      "649 is greater than -602\n",
      "-234 is greater than -880\n",
      "809 is greater than 383\n",
      "827 is greater than -572\n",
      "742 is greater than -101\n",
      "120 is greater than -691\n",
      "886 is greater than -412\n",
      "84 is greater than -3\n",
      "-351 is greater than -406\n",
      "511 is greater than 10\n",
      "576 is greater than -116\n",
      "-148 is greater than -318\n",
      "377 is greater than -191\n",
      "365 is greater than 19\n",
      "929 is greater than -375\n",
      "944 is greater than -79\n",
      "-377 is greater than -774\n",
      "-85 is greater than -791\n",
      "-376 is greater than -842\n",
      "255 is greater than -692\n",
      "-71 is greater than -510\n",
      "-270 is greater than -980\n",
      "209 is greater than -812\n",
      "10 is greater than -686\n",
      "863 is greater than 5\n",
      "874 is greater than 472\n",
      "874 is greater than 443\n",
      "-356 is greater than -861\n",
      "31 is greater than -935\n",
      "530 is greater than -566\n",
      "255 is greater than -226\n",
      "179 is greater than -820\n",
      "953 is greater than -240\n",
      "703 is greater than 14\n",
      "768 is greater than 590\n",
      "-183 is greater than -250\n",
      "1000 is greater than -673\n",
      "550 is greater than -922\n",
      "206 is greater than -660\n",
      "947 is greater than 885\n",
      "96 is greater than -214\n",
      "308 is greater than -853\n",
      "527 is greater than -724\n",
      "-13 is greater than -230\n",
      "150 is greater than -294\n",
      "39 is greater than -975\n",
      "971 is greater than 658\n",
      "986 is greater than -384\n",
      "-103 is greater than -274\n",
      "408 is greater than 112\n",
      "212 is greater than -178\n",
      "877 is greater than -422\n",
      "55 is greater than -995\n",
      "413 is greater than 61\n",
      "542 is greater than -557\n",
      "805 is greater than -606\n",
      "541 is greater than -874\n",
      "779 is greater than 252\n",
      "72 is greater than -105\n",
      "666 is greater than -973\n",
      "571 is greater than 311\n",
      "150 is greater than -308\n",
      "923 is greater than -697\n",
      "-39 is greater than -285\n",
      "464 is greater than -408\n",
      "935 is greater than 319\n",
      "133 is greater than -513\n",
      "-976 is greater than -987\n",
      "904 is greater than 282\n",
      "843 is greater than -851\n",
      "970 is greater than -169\n",
      "872 is greater than 788\n",
      "-447 is greater than -943\n",
      "842 is greater than -897\n",
      "551 is greater than -763\n",
      "-278 is greater than -759\n",
      "767 is greater than -306\n",
      "516 is greater than -457\n",
      "410 is greater than -112\n",
      "399 is greater than -446\n"
     ]
    }
   ],
   "source": [
    "# This will test your function \n",
    "test_greater(greater)    "
   ]
  },
  {
   "cell_type": "markdown",
   "metadata": {},
   "source": [
    "## 2. Now write a function that returns the largest element on a list"
   ]
  },
  {
   "cell_type": "code",
   "execution_count": 157,
   "metadata": {},
   "outputs": [
    {
     "data": {
      "text/plain": [
       "9"
      ]
     },
     "execution_count": 157,
     "metadata": {},
     "output_type": "execute_result"
    }
   ],
   "source": [
    "def greatest(arr):\n",
    "    greatest = arr[0]\n",
    "    for e in arr:\n",
    "        if e > greatest:\n",
    "            greatest = e\n",
    "\n",
    "    return greatest\n",
    "\n",
    "greatest(arr=[1,2,3,4,5,6,7,8,9])"
   ]
  },
  {
   "cell_type": "code",
   "execution_count": 158,
   "metadata": {},
   "outputs": [
    {
     "name": "stderr",
     "output_type": "stream",
     "text": [
      "....................................................................................................\n",
      "----------------------------------------------------------------------\n",
      "Ran 100 tests in 0.076s\n",
      "\n",
      "OK\n"
     ]
    }
   ],
   "source": [
    "# This will test your function \n",
    "test_greatest(greatest)"
   ]
  },
  {
   "cell_type": "markdown",
   "metadata": {},
   "source": [
    "## 3. Write a function that sums all the elements on a list"
   ]
  },
  {
   "cell_type": "code",
   "execution_count": 159,
   "metadata": {},
   "outputs": [
    {
     "data": {
      "text/plain": [
       "45"
      ]
     },
     "execution_count": 159,
     "metadata": {},
     "output_type": "execute_result"
    }
   ],
   "source": [
    "def sum_all(x):\n",
    "    \n",
    "    start_sum = 0\n",
    "    \n",
    "    for e in x:\n",
    "        start_sum += e\n",
    "        \n",
    "    return start_sum\n",
    "\n",
    "sum_all(x=[1,2,3,4,5,6,7,8,9])"
   ]
  },
  {
   "cell_type": "code",
   "execution_count": 160,
   "metadata": {},
   "outputs": [
    {
     "name": "stderr",
     "output_type": "stream",
     "text": [
      "....................................................................................................\n",
      "----------------------------------------------------------------------\n",
      "Ran 100 tests in 0.085s\n",
      "\n",
      "OK\n"
     ]
    }
   ],
   "source": [
    "# This will test your function \n",
    "test_sum(sum_all)"
   ]
  },
  {
   "cell_type": "markdown",
   "metadata": {},
   "source": [
    "## 4. Write another function that multiplies all the elements on a list"
   ]
  },
  {
   "cell_type": "code",
   "execution_count": 161,
   "metadata": {},
   "outputs": [
    {
     "data": {
      "text/plain": [
       "6"
      ]
     },
     "execution_count": 161,
     "metadata": {},
     "output_type": "execute_result"
    }
   ],
   "source": [
    "def mult_all(y):\n",
    "    start_mult = 1\n",
    "    for e in y:\n",
    "        start_mult *= e\n",
    "    return start_mult\n",
    "mult_all(y=[1,2,3])"
   ]
  },
  {
   "cell_type": "code",
   "execution_count": 162,
   "metadata": {},
   "outputs": [
    {
     "name": "stderr",
     "output_type": "stream",
     "text": [
      "....................................................................................................\n",
      "----------------------------------------------------------------------\n",
      "Ran 100 tests in 0.089s\n",
      "\n",
      "OK\n"
     ]
    }
   ],
   "source": [
    "# This will test your function \n",
    "test_mult(mult_all)"
   ]
  },
  {
   "cell_type": "markdown",
   "metadata": {},
   "source": [
    "## 5. Now combine those two ideas and write a function that receives a list and either \"+\" or \"*\" and outputs acordingly"
   ]
  },
  {
   "cell_type": "code",
   "execution_count": 163,
   "metadata": {},
   "outputs": [
    {
     "name": "stdout",
     "output_type": "stream",
     "text": [
      "Addittion (+) or multiplication(*): +\n"
     ]
    },
    {
     "data": {
      "text/plain": [
       "15"
      ]
     },
     "execution_count": 163,
     "metadata": {},
     "output_type": "execute_result"
    }
   ],
   "source": [
    "def oper_all(arr, oper = (input(\"Addittion (+) or multiplication(*): \"))):\n",
    "    if oper == \"+\":\n",
    "        return sum_all(arr)\n",
    "    elif oper == \"*\":\n",
    "        return mult_all(arr)\n",
    "    else:\n",
    "        raise ValueError(\"Please, enter '+' or '*'.\")\n",
    "\n",
    "oper_all(arr=[1,2,3,4,5])\n"
   ]
  },
  {
   "cell_type": "code",
   "execution_count": 164,
   "metadata": {},
   "outputs": [
    {
     "name": "stderr",
     "output_type": "stream",
     "text": [
      "....................................................................................................\n",
      "----------------------------------------------------------------------\n",
      "Ran 100 tests in 0.082s\n",
      "\n",
      "OK\n"
     ]
    }
   ],
   "source": [
    "# This will test your function \n",
    "test_operations(oper_all)"
   ]
  },
  {
   "cell_type": "markdown",
   "metadata": {},
   "source": [
    "## 6. Write a function that returns the factorial of a number."
   ]
  },
  {
   "cell_type": "code",
   "execution_count": 165,
   "metadata": {},
   "outputs": [
    {
     "data": {
      "text/plain": [
       "120"
      ]
     },
     "execution_count": 165,
     "metadata": {},
     "output_type": "execute_result"
    }
   ],
   "source": [
    "def factorial(n):\n",
    "    if n < 0:\n",
    "        raise ValueError(\"Error, negative number\")\n",
    "    elif n == 0 or n == 1:\n",
    "        return 1\n",
    "    else:\n",
    "        result = 1\n",
    "        for e in range(2, n + 1):\n",
    "            result *= e\n",
    "        return result\n",
    "factorial(n=5)\n",
    "\n",
    "##Factorial is the product of all the natural numbers before or equal to it. "
   ]
  },
  {
   "cell_type": "code",
   "execution_count": 166,
   "metadata": {},
   "outputs": [
    {
     "name": "stderr",
     "output_type": "stream",
     "text": [
      "....................................................................................................\n",
      "----------------------------------------------------------------------\n",
      "Ran 100 tests in 0.088s\n",
      "\n",
      "OK\n"
     ]
    }
   ],
   "source": [
    "# This will test your function \n",
    "test_factorial(factorial)"
   ]
  },
  {
   "cell_type": "markdown",
   "metadata": {},
   "source": [
    "## 7. Write a function that takes a list and returns a list of the unique values.\n",
    "\n",
    "`NOTE: You cannot use set. 🤔`"
   ]
  },
  {
   "cell_type": "code",
   "execution_count": 167,
   "metadata": {},
   "outputs": [
    {
     "data": {
      "text/plain": [
       "[1, 2, 3, 4, 6, 7, 8]"
      ]
     },
     "execution_count": 167,
     "metadata": {},
     "output_type": "execute_result"
    }
   ],
   "source": [
    "def unique(arr):\n",
    "    lst = []\n",
    "    for e in arr:\n",
    "        if e not in lst:\n",
    "            lst.append(e)\n",
    "        else:\n",
    "            pass\n",
    "    return lst\n",
    "\n",
    "unique(arr=[1,1,1,2,2,3,3,4,4,6,7,8,8])"
   ]
  },
  {
   "cell_type": "code",
   "execution_count": 168,
   "metadata": {},
   "outputs": [
    {
     "name": "stderr",
     "output_type": "stream",
     "text": [
      "....................................................................................................\n",
      "----------------------------------------------------------------------\n",
      "Ran 100 tests in 0.179s\n",
      "\n",
      "OK\n"
     ]
    }
   ],
   "source": [
    "# This will test your function \n",
    "test_unique(unique)"
   ]
  },
  {
   "cell_type": "markdown",
   "metadata": {},
   "source": [
    "## 8. Write a function that returns the mode of a list, i.e.: the element that appears the most times.\n",
    "`NOTE: You should not use count... 🧐`"
   ]
  },
  {
   "cell_type": "code",
   "execution_count": 169,
   "metadata": {},
   "outputs": [
    {
     "name": "stdout",
     "output_type": "stream",
     "text": [
      "The mode is: 3\n"
     ]
    }
   ],
   "source": [
    "def mode_counter(arr):\n",
    "    counter = {}\n",
    "    for e in arr:\n",
    "        if e in counter:\n",
    "            counter[e] += 1\n",
    "        else:\n",
    "            counter[e] = 1 \n",
    "    max = 0 \n",
    "    for e in counter.values():\n",
    "        if max == 0 or e > max:\n",
    "            max = e\n",
    "    s_max = max        \n",
    "    mode = []\n",
    "    for k,v in counter.items():\n",
    "        if v == s_max:\n",
    "            mode.append(k)\n",
    "    mode = int(mode[0])\n",
    "\n",
    "    return mode\n",
    "\n",
    "mode = mode_counter(arr=[1, 2, 3, 3, 3, 3, 4, 4, 5, 5, 5])\n",
    "print(f'The mode is: {mode}')\n"
   ]
  },
  {
   "cell_type": "code",
   "execution_count": 170,
   "metadata": {},
   "outputs": [
    {
     "name": "stderr",
     "output_type": "stream",
     "text": [
      "....................................................................................................\n",
      "----------------------------------------------------------------------\n",
      "Ran 100 tests in 0.082s\n",
      "\n",
      "OK\n"
     ]
    }
   ],
   "source": [
    "# This will test your function \n",
    "test_mode(mode_counter)"
   ]
  },
  {
   "cell_type": "markdown",
   "metadata": {},
   "source": [
    "## 9. Write a function that calculates the standard deviation of a list.\n",
    "`NOTE: Do not use any libraries or already built functions. 😉`"
   ]
  },
  {
   "cell_type": "code",
   "execution_count": 171,
   "metadata": {},
   "outputs": [
    {
     "data": {
      "text/plain": [
       "1.5811388300841898"
      ]
     },
     "execution_count": 171,
     "metadata": {},
     "output_type": "execute_result"
    }
   ],
   "source": [
    "def st_dev(arr):\n",
    "    length = 0\n",
    "    sum_total = 0\n",
    "    for e in arr:\n",
    "        length += 1\n",
    "        sum_total += e\n",
    "\n",
    "    l = length\n",
    "\n",
    "    if l < 2:\n",
    "        raise ValueError('Standard deviation needs 2 elements or more')\n",
    "    \n",
    "    mean = sum_total/l\n",
    "    \n",
    "    sum_squared_diff = 0\n",
    "    for x in arr:\n",
    "        diff = x - mean\n",
    "        squared_diff = diff ** 2\n",
    "        sum_squared_diff += squared_diff\n",
    "        \n",
    "    variance = sum_squared_diff / (l - 1)\n",
    "    \n",
    "    std_dev = variance ** 0.5\n",
    "    \n",
    "    return std_dev\n",
    "st_dev(arr=[1,2,3,4,5])"
   ]
  },
  {
   "cell_type": "code",
   "execution_count": 172,
   "metadata": {},
   "outputs": [
    {
     "name": "stderr",
     "output_type": "stream",
     "text": [
      "....................................................................................................\n",
      "----------------------------------------------------------------------\n",
      "Ran 100 tests in 0.085s\n",
      "\n",
      "OK\n"
     ]
    }
   ],
   "source": [
    "# This will test your function \n",
    "test_stdev(st_dev)"
   ]
  },
  {
   "cell_type": "markdown",
   "metadata": {},
   "source": [
    "## 10. Write a function to check if a string is a pangram, i.e.: if it contains all the letters of the alphabet at least once. Mind that the strings may contain characters that are not letters."
   ]
  },
  {
   "cell_type": "code",
   "execution_count": 173,
   "metadata": {},
   "outputs": [
    {
     "name": "stdout",
     "output_type": "stream",
     "text": [
      "False\n"
     ]
    }
   ],
   "source": [
    "def pangram(string):\n",
    "    letters = set()\n",
    "    for letter in string:\n",
    "        letter = letter.lower()\n",
    "        if letter.isalpha():\n",
    "            letters.add(letter)\n",
    "    length = 0\n",
    "    for e in letters:\n",
    "        length += 1\n",
    "    \n",
    "    if length == 26:\n",
    "        return True\n",
    "    else:\n",
    "        return False\n",
    "\n",
    "string = \"Fabio me exige, sin tapujos, que añada cerveza al whisky\"\n",
    "result = pangram(string)\n",
    "print(result)"
   ]
  },
  {
   "cell_type": "code",
   "execution_count": 174,
   "metadata": {},
   "outputs": [
    {
     "name": "stderr",
     "output_type": "stream",
     "text": [
      "..............................\n",
      "----------------------------------------------------------------------\n",
      "Ran 30 tests in 0.024s\n",
      "\n",
      "OK\n"
     ]
    }
   ],
   "source": [
    "# This will test your function \n",
    "test_pangram(pangram)"
   ]
  },
  {
   "cell_type": "markdown",
   "metadata": {},
   "source": [
    "## 11. Write a function that receives a string of comma separated words and returns a string of comma separated words sorted alphabetically.\n",
    "\n",
    "`NOTE: You may use sorted but not split and definitely no join! 🤪`"
   ]
  },
  {
   "cell_type": "code",
   "execution_count": 175,
   "metadata": {},
   "outputs": [
    {
     "data": {
      "text/plain": [
       "'adios,buenas,chao,hola'"
      ]
     },
     "execution_count": 175,
     "metadata": {},
     "output_type": "execute_result"
    }
   ],
   "source": [
    "def sort_alpha(string):\n",
    "    lst = list(string)\n",
    "    list_sorted = []\n",
    "    words = \"\"\n",
    "    sort_words = \"\"\n",
    "    \n",
    "    #print(string)\n",
    "    for e in lst:\n",
    "        if e == \",\":\n",
    "            list_sorted.append(words)\n",
    "            words = \"\"\n",
    "        elif e.isalpha():\n",
    "            words += e\n",
    "        \n",
    "    if  words:\n",
    "        list_sorted.append(words)\n",
    "    list_sorted.sort() \n",
    "    \n",
    "    length = 0\n",
    "    for e in list_sorted:\n",
    "        length += 1\n",
    "        \n",
    "    for e in range(length):\n",
    "        sort_words += list_sorted[e]\n",
    "        if e != length - 1:\n",
    "            sort_words += \",\"\n",
    "            \n",
    "                \n",
    "    \n",
    "             \n",
    "            \n",
    "            \n",
    "            \n",
    "            \n",
    "            \n",
    "            \n",
    "            \n",
    "    return sort_words\n",
    "    \n",
    "\n",
    "sort_alpha(string = \"hola,adios,chao,buenas\")"
   ]
  },
  {
   "cell_type": "code",
   "execution_count": 176,
   "metadata": {},
   "outputs": [
    {
     "name": "stderr",
     "output_type": "stream",
     "text": [
      "....................................................................................................\n",
      "----------------------------------------------------------------------\n",
      "Ran 100 tests in 0.088s\n",
      "\n",
      "OK\n"
     ]
    }
   ],
   "source": [
    "# This will test your function \n",
    "test_alpha(sort_alpha)"
   ]
  },
  {
   "cell_type": "markdown",
   "metadata": {},
   "source": [
    "## 12. Write a function to check if a given password is strong (at least 8 characters, at least one lower case, at least one upper case, at least one number and at least one special character). It should output True if strong and False if not.\n",
    "`Valid special characters: # @ ! $ % & ( ) ^ * [ ] { }`"
   ]
  },
  {
   "cell_type": "code",
   "execution_count": 177,
   "metadata": {},
   "outputs": [
    {
     "name": "stdout",
     "output_type": "stream",
     "text": [
      "True\n"
     ]
    }
   ],
   "source": [
    "def check_pass(string):\n",
    "    counter_chars  = 0\n",
    "    upper_char = 0\n",
    "    lower_char = 0\n",
    "    number = 0\n",
    "    special_char = 0\n",
    "    special_characters = \"#@!$%&()^*[]{}\"\n",
    "    for char in string:\n",
    "        if char in special_characters:\n",
    "            special_char += 1\n",
    "            counter_chars += 1\n",
    "            \n",
    "    for char in string:\n",
    "        if char.isalpha():\n",
    "            if char.isupper():\n",
    "                upper_char += 1\n",
    "                counter_chars += 1\n",
    "            elif char.islower():\n",
    "                lower_char += 1\n",
    "                counter_chars += 1\n",
    "        elif char.isdigit():\n",
    "            number += 1\n",
    "            counter_chars += 1\n",
    "    \n",
    "    if counter_chars >= 8 and special_char >= 1 and upper_char >= 1 and lower_char >= 1 and number >= 1: \n",
    "        return True\n",
    "    else: \n",
    "        return False\n",
    "    \n",
    "string = \"@1aAaaaaa\"\n",
    "    \n",
    "result = check_pass(string)\n",
    "print(result)"
   ]
  },
  {
   "cell_type": "code",
   "execution_count": 178,
   "metadata": {},
   "outputs": [
    {
     "name": "stderr",
     "output_type": "stream",
     "text": [
      "....................................................................................................\n",
      "----------------------------------------------------------------------\n",
      "Ran 100 tests in 0.067s\n",
      "\n",
      "OK\n"
     ]
    }
   ],
   "source": [
    "# This will test your function \n",
    "test_pass(check_pass)"
   ]
  },
  {
   "cell_type": "code",
   "execution_count": null,
   "metadata": {},
   "outputs": [],
   "source": []
  }
 ],
 "metadata": {
  "kernelspec": {
   "display_name": "Python 3 (ipykernel)",
   "language": "python",
   "name": "python3"
  },
  "language_info": {
   "codemirror_mode": {
    "name": "ipython",
    "version": 3
   },
   "file_extension": ".py",
   "mimetype": "text/x-python",
   "name": "python",
   "nbconvert_exporter": "python",
   "pygments_lexer": "ipython3",
   "version": "3.10.9"
  }
 },
 "nbformat": 4,
 "nbformat_minor": 4
}
