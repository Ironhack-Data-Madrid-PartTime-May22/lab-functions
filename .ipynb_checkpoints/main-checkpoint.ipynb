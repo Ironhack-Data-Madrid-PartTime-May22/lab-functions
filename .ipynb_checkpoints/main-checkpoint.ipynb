{
 "cells": [
  {
   "cell_type": "markdown",
   "metadata": {},
   "source": [
    "# Functions"
   ]
  },
  {
   "cell_type": "markdown",
   "metadata": {},
   "source": [
    "On this lab we will put to practice some of the concepts we have learned on this past few days.\n",
    "\n",
    "`NOTE: On this lab you should try to write all the functions yourself using only the most basic of python syntax and without functions such as len, count, sum, max, min, in, etc. Give it a try. 🧑🏻‍💻👩🏻‍💻`\n",
    "\n",
    "The cell after each exercise contains a few tests to check if your function works as expected."
   ]
  },
  {
   "cell_type": "code",
   "execution_count": 1,
   "metadata": {},
   "outputs": [],
   "source": [
    "from mod.testing import *\n",
    "import unittest"
   ]
  },
  {
   "cell_type": "markdown",
   "metadata": {},
   "source": [
    "## 1. Write a function that returns the greater of two numbers"
   ]
  },
  {
   "cell_type": "code",
   "execution_count": 4,
   "metadata": {},
   "outputs": [],
   "source": [
    "def greater(a,b):\n",
    "    \"\"\"\n",
    "    Esta función recibe dos números y devuelve el mayor de los dos\n",
    "    Args:\n",
    "        a (int): primer número\n",
    "        b (int): segundo número\n",
    "    Returns: \n",
    "        maximo (int): el número mayor de argumentos de entrada\n",
    "    \"\"\"\n",
    "    if a > b:\n",
    "        maximo = a\n",
    "    else:\n",
    "        maximo = b\n",
    "    \n",
    "    return maximo"
   ]
  },
  {
   "cell_type": "code",
   "execution_count": 5,
   "metadata": {},
   "outputs": [
    {
     "name": "stderr",
     "output_type": "stream",
     "text": [
      "....................................................................................................\n",
      "----------------------------------------------------------------------\n",
      "Ran 100 tests in 0.168s\n",
      "\n",
      "OK\n"
     ]
    }
   ],
   "source": [
    "# This will test your function \n",
    "test_greater(greater)"
   ]
  },
  {
   "cell_type": "markdown",
   "metadata": {},
   "source": [
    "## 2. Now write a function that returns the largest element on a list"
   ]
  },
  {
   "cell_type": "code",
   "execution_count": 8,
   "metadata": {},
   "outputs": [],
   "source": [
    "def greatest(arr):\n",
    "    \"\"\"\n",
    "    Esta función recibe una lista (de números) y devuelve el mayor elemento de la lista\n",
    "    Args:\n",
    "        arr (lst): lista de números\n",
    "    Returns: \n",
    "        largest (int): el número mayor de la lista argumento de entrada\n",
    "    \"\"\"\n",
    "    largest = 0\n",
    "    for i in arr:\n",
    "        if i > largest:\n",
    "            largest = i\n",
    "        else:\n",
    "            pass\n",
    "        \n",
    "    return largest"
   ]
  },
  {
   "cell_type": "code",
   "execution_count": 9,
   "metadata": {},
   "outputs": [
    {
     "name": "stderr",
     "output_type": "stream",
     "text": [
      "....................................................................................................\n",
      "----------------------------------------------------------------------\n",
      "Ran 100 tests in 0.143s\n",
      "\n",
      "OK\n"
     ]
    }
   ],
   "source": [
    "# This will test your function \n",
    "test_greatest(greatest)"
   ]
  },
  {
   "cell_type": "markdown",
   "metadata": {},
   "source": [
    "## 3. Write a function that sums all the elements on a list"
   ]
  },
  {
   "cell_type": "code",
   "execution_count": 10,
   "metadata": {},
   "outputs": [],
   "source": [
    "def sum_all(arr):\n",
    "    \"\"\"\n",
    "    Esta función recibe una lista (de números) y devuelve la suma de todos los elementos de la lista\n",
    "    Args:\n",
    "        arr (lst): lista de números\n",
    "    Returns: \n",
    "        sumados (int): la suma de todos los elementos de la lista argumento de entrada\n",
    "    \"\"\"\n",
    "    sumados = 0\n",
    "    for i in arr:\n",
    "        sumados += i\n",
    "        \n",
    "    return sumados"
   ]
  },
  {
   "cell_type": "code",
   "execution_count": 11,
   "metadata": {},
   "outputs": [
    {
     "name": "stderr",
     "output_type": "stream",
     "text": [
      "....................................................................................................\n",
      "----------------------------------------------------------------------\n",
      "Ran 100 tests in 0.156s\n",
      "\n",
      "OK\n"
     ]
    }
   ],
   "source": [
    "# This will test your function \n",
    "test_sum(sum_all)"
   ]
  },
  {
   "cell_type": "markdown",
   "metadata": {},
   "source": [
    "## 4. Write another function that multiplies all the elements on a list"
   ]
  },
  {
   "cell_type": "code",
   "execution_count": 12,
   "metadata": {},
   "outputs": [],
   "source": [
    "def mult_all(arr):\n",
    "    \"\"\"\n",
    "    Esta función recibe una lista (de números) y devuelve el producto de todos los elementos de la lista\n",
    "    Args:\n",
    "        arr (lst): lista de números\n",
    "    Returns: \n",
    "        multiplicados (int): el producto de todos los elementos de la lista argumento de entrada\n",
    "    \"\"\"\n",
    "    multiplicados = 1\n",
    "    for i in arr:\n",
    "        multiplicados *= i\n",
    "        \n",
    "    return multiplicados"
   ]
  },
  {
   "cell_type": "code",
   "execution_count": 13,
   "metadata": {},
   "outputs": [
    {
     "name": "stderr",
     "output_type": "stream",
     "text": [
      "....................................................................................................\n",
      "----------------------------------------------------------------------\n",
      "Ran 100 tests in 0.161s\n",
      "\n",
      "OK\n"
     ]
    }
   ],
   "source": [
    "# This will test your function \n",
    "test_mult(mult_all)"
   ]
  },
  {
   "cell_type": "markdown",
   "metadata": {},
   "source": [
    "## 5. Now combine those two ideas and write a function that receives a list and either \"+\" or \"*\" and outputs acordingly"
   ]
  },
  {
   "cell_type": "code",
   "execution_count": 15,
   "metadata": {},
   "outputs": [],
   "source": [
    "def oper_all(arr, oper):\n",
    "    \"\"\"\n",
    "    Esta función recibe una lista (de números) y la operación que se desea realizar y \n",
    "    devuelve el resultado de la operación realizada (suma o producto de todos los elementos)\n",
    "    Args:\n",
    "        arr (lst): lista de números\n",
    "        oper (str): suma '+' o producto '*'\n",
    "    Returns: \n",
    "        resultado (int): la suma o el producto de todos los elementos de la lista argumento de entrada\n",
    "    \"\"\"\n",
    "    if oper == '+':\n",
    "        resultado = 0\n",
    "        for i in arr:\n",
    "            resultado += i\n",
    "    \n",
    "    elif oper == '*':\n",
    "        resultado = 1\n",
    "        for i in arr:\n",
    "            resultado *= i\n",
    "    \n",
    "    else:\n",
    "        pass\n",
    "    \n",
    "    return resultado"
   ]
  },
  {
   "cell_type": "code",
   "execution_count": 16,
   "metadata": {},
   "outputs": [
    {
     "name": "stderr",
     "output_type": "stream",
     "text": [
      "....................................................................................................\n",
      "----------------------------------------------------------------------\n",
      "Ran 100 tests in 0.207s\n",
      "\n",
      "OK\n"
     ]
    }
   ],
   "source": [
    "# This will test your function \n",
    "test_operations(oper_all)"
   ]
  },
  {
   "cell_type": "markdown",
   "metadata": {},
   "source": [
    "## 6. Write a function that returns the factorial of a number."
   ]
  },
  {
   "cell_type": "code",
   "execution_count": 28,
   "metadata": {},
   "outputs": [],
   "source": [
    "def factorial(n):            #5      \n",
    "    \"\"\"\n",
    "    Esta función recibe un número y devuelve su factorial\n",
    "    Args:\n",
    "        n (int): número\n",
    "    Returns: \n",
    "        resultado (int): el factorial del número argumento de entrada\n",
    "    \"\"\"\n",
    "    resultado = 1\n",
    "    for i in range(1,n+1):   #1,5+1\n",
    "        resultado *= i       #1*2*3*4*5\n",
    "        \n",
    "    return resultado"
   ]
  },
  {
   "cell_type": "code",
   "execution_count": 29,
   "metadata": {},
   "outputs": [
    {
     "name": "stderr",
     "output_type": "stream",
     "text": [
      "....................................................................................................\n",
      "----------------------------------------------------------------------\n",
      "Ran 100 tests in 0.208s\n",
      "\n",
      "OK\n"
     ]
    }
   ],
   "source": [
    "# This will test your function \n",
    "test_factorial(factorial)"
   ]
  },
  {
   "cell_type": "markdown",
   "metadata": {},
   "source": [
    "## 7. Write a function that takes a list and returns a list of the unique values.\n",
    "\n",
    "`NOTE: You cannot use set. 🤔`"
   ]
  },
  {
   "cell_type": "code",
   "execution_count": 19,
   "metadata": {},
   "outputs": [],
   "source": [
    "def unique(arr):\n",
    "    \"\"\"\n",
    "    Esta función recibe una lista (de números) y devuelve otra lista con valores únicos\n",
    "    Args:\n",
    "        arr (lst): lista de números\n",
    "    Returns: \n",
    "        unicos (lst): lista que contiene los valores únicos de la lista argumento de entrada\n",
    "    \"\"\"\n",
    "    unicos = []\n",
    "    for i in arr:\n",
    "        if i not in unicos:\n",
    "            unicos.append(i)\n",
    "        else:\n",
    "            pass\n",
    "        \n",
    "    return unicos"
   ]
  },
  {
   "cell_type": "code",
   "execution_count": 20,
   "metadata": {},
   "outputs": [
    {
     "name": "stderr",
     "output_type": "stream",
     "text": [
      "....................................................................................................\n",
      "----------------------------------------------------------------------\n",
      "Ran 100 tests in 0.286s\n",
      "\n",
      "OK\n"
     ]
    }
   ],
   "source": [
    "# This will test your function \n",
    "test_unique(unique)"
   ]
  },
  {
   "cell_type": "markdown",
   "metadata": {},
   "source": [
    "## 8. Write a function that returns the mode of a list, i.e.: the element that appears the most times.\n",
    "`NOTE: You should not use count... 🧐`"
   ]
  },
  {
   "cell_type": "code",
   "execution_count": 30,
   "metadata": {},
   "outputs": [],
   "source": [
    "def mode_counter(arr):\n",
    "    \"\"\"\n",
    "    Esta función recibe una lista (de números) y devuelve la moda de la lista, el elemento que aparece más veces\n",
    "    Args:\n",
    "        arr (lst): lista de números\n",
    "    Returns: \n",
    "        moda (int): elemento que aparece con más frecuencia en la lista argumento de entrada\n",
    "    \"\"\"\n",
    "    frecuencia = {}       #diccionario que relaciona los número de la lista de entrada con su frecuencia de aparición\n",
    "    for i in arr:\n",
    "        if i in frecuencia:\n",
    "            frecuencia[i] += 1\n",
    "        else:\n",
    "            frecuencia[i] = 1\n",
    "\n",
    "    max_frecuencia = 0\n",
    "    \n",
    "    for j in frecuencia:\n",
    "        if frecuencia[j] > max_frecuencia:\n",
    "            moda = j\n",
    "            max_frecuencia = frecuencia[j]\n",
    "        else:\n",
    "            pass\n",
    "        \n",
    "    return moda"
   ]
  },
  {
   "cell_type": "code",
   "execution_count": 31,
   "metadata": {},
   "outputs": [
    {
     "name": "stderr",
     "output_type": "stream",
     "text": [
      "....................................................................................................\n",
      "----------------------------------------------------------------------\n",
      "Ran 100 tests in 0.207s\n",
      "\n",
      "OK\n"
     ]
    }
   ],
   "source": [
    "# This will test your function \n",
    "test_mode(mode_counter)"
   ]
  },
  {
   "cell_type": "markdown",
   "metadata": {},
   "source": [
    "## 9. Write a function that calculates the standard deviation of a list.\n",
    "`NOTE: Do not use any libraries or already built functions. 😉`"
   ]
  },
  {
   "cell_type": "code",
   "execution_count": 32,
   "metadata": {},
   "outputs": [],
   "source": [
    "def st_dev(arr):\n",
    "    \"\"\"\n",
    "    Esta función recibe una lista (de números) y devuelve la desviación estándar\n",
    "    Args:\n",
    "        arr (lst): lista de números\n",
    "    Returns: \n",
    "        desviacion (int): desviación estándar de la muestra argumento de entrada\n",
    "    \"\"\"\n",
    "    desviacion = 0\n",
    "    xi = 0\n",
    "    xmean = 0\n",
    "    \n",
    "    for i in arr:\n",
    "        xmean += i\n",
    "    xmean = xmean / len(arr)  #valor medio de la muestra\n",
    "    \n",
    "    for i in arr:\n",
    "        desviacion = desviacion + ((i-xmean)**2/(len(arr)-1)) #fórmula wikipedia\n",
    "    desviacion = desviacion ** (1/2)\n",
    "    \n",
    "    return desviacion"
   ]
  },
  {
   "cell_type": "code",
   "execution_count": 33,
   "metadata": {},
   "outputs": [
    {
     "name": "stderr",
     "output_type": "stream",
     "text": [
      "....................................................................................................\n",
      "----------------------------------------------------------------------\n",
      "Ran 100 tests in 0.163s\n",
      "\n",
      "OK\n"
     ]
    }
   ],
   "source": [
    "# This will test your function \n",
    "test_stdev(st_dev)"
   ]
  },
  {
   "cell_type": "markdown",
   "metadata": {},
   "source": [
    "## 10. Write a function to check if a string is a pangram, i.e.: if it contains all the letters of the alphabet at least once. Mind that the strings may contain characters that are not letters."
   ]
  },
  {
   "cell_type": "code",
   "execution_count": 54,
   "metadata": {},
   "outputs": [],
   "source": [
    "from string import ascii_lowercase, punctuation\n",
    "def pangram(string):\n",
    "    \"\"\"\n",
    "    Esta función recibe una string y comprueba si es un pangrama* o no\n",
    "    *un pangrama es una palabra que contiene todas las letras de un alfabeto\n",
    "    Args:\n",
    "        string (str): palabra de entrada\n",
    "    Returns: \n",
    "        pangrama (bool): devuelve True si es pangrama\n",
    "    \"\"\"\n",
    "    pangrama = True\n",
    "    diccionario = {}   #diccionario, keys = letras alfabeto, values (bool) = aparición en el string de entrada\n",
    "    nuevo_item = {}\n",
    "    \n",
    "    string = string.lower()  #paso todas a minus porque mi alfabeto es en minus\n",
    "    \n",
    "    for s in string:         #elimino todo lo que no sean letras del alfabeto\n",
    "        for p in punctuation:\n",
    "            if s == p:\n",
    "                string.strip(p)\n",
    "            else:\n",
    "                pass\n",
    "\n",
    "    for s in string:\n",
    "        for a in ascii_lowercase:\n",
    "            if a not in diccionario:\n",
    "                if s == a:     #si la letra de la palabra no está en el diccionario la añado como True\n",
    "                    nuevo_item = {a: True}\n",
    "                    diccionario.update(nuevo_item)\n",
    "                elif s != a:   #si la letra del alfabeto no está en el diccionario ni en la palabra la añado como False\n",
    "                    nuevo_item = {a: False}\n",
    "                    diccionario.update(nuevo_item)\n",
    "                else:\n",
    "                    pass\n",
    "            else:\n",
    "                if s == a:     #si la letra de la palabra ya está en el diccionario la añado como True\n",
    "                    nuevo_item = {a: True}\n",
    "                    diccionario.update(nuevo_item)\n",
    "            \n",
    "    for k in diccionario:\n",
    "        if diccionario[k]: #si todas las keys tienen valor True, es que es un pangrama porque contiene todo el alfabeto\n",
    "            pass\n",
    "        else:\n",
    "            pangrama = False\n",
    "            break\n",
    "        \n",
    "    return pangrama"
   ]
  },
  {
   "cell_type": "code",
   "execution_count": 55,
   "metadata": {},
   "outputs": [
    {
     "name": "stderr",
     "output_type": "stream",
     "text": [
      "..............................\n",
      "----------------------------------------------------------------------\n",
      "Ran 30 tests in 0.107s\n",
      "\n",
      "OK\n"
     ]
    }
   ],
   "source": [
    "# This will test your function \n",
    "test_pangram(pangram)"
   ]
  },
  {
   "cell_type": "markdown",
   "metadata": {},
   "source": [
    "## 11. Write a function that receives a string of comma separated words and returns a string of comma separated words sorted alphabetically.\n",
    "\n",
    "`NOTE: You may use sorted but not split and definitely no join! 🤪`"
   ]
  },
  {
   "cell_type": "code",
   "execution_count": 2,
   "metadata": {},
   "outputs": [],
   "source": [
    "def sort_alpha(string):\n",
    "    \"\"\"\n",
    "    Esta función recibe una string que contiene palabras separadas por comas y \n",
    "    devuelve una string que contiene palabras ordenadas alfabéticamente separadas por comas \n",
    "    Args:\n",
    "        string (str): palabras separadas por comas\n",
    "    Returns: \n",
    "        string_ordenada (str): string que contiene palabras ordenadas alfabéticamente y separadas por comas\n",
    "    \"\"\"\n",
    "    lista = []\n",
    "    lista_ordenada = []\n",
    "    palabra = ''\n",
    "    result = ''\n",
    "    \n",
    "    anterior = -1 #para comenzar en 0\n",
    "    longitud = 0\n",
    "    string = string + ',' #añado una coma al final del string porque identifico las palabras como aquello que se encuentra antes de una coma\n",
    "    \n",
    "    for s in string:\n",
    "        if s == ',':\n",
    "            palabra = string[anterior + 1:longitud] #calculo dónde hacer el corte de cada palabra, las palabras miden lo que miden +1 que es la coma\n",
    "            lista.append(palabra)\n",
    "            anterior = longitud\n",
    "        else:\n",
    "            pass\n",
    "        \n",
    "        longitud += 1\n",
    "\n",
    "    lista_ordenada = sorted(lista)\n",
    "    \n",
    "    for i in lista_ordenada:\n",
    "        result = result + ',' + i #creo de nuevo un string separando las palabras por comas\n",
    "    \n",
    "    string_ordenada = result.lstrip(',') #elimino la última coma\n",
    "    \n",
    "    return string_ordenada"
   ]
  },
  {
   "cell_type": "code",
   "execution_count": 3,
   "metadata": {},
   "outputs": [
    {
     "name": "stderr",
     "output_type": "stream",
     "text": [
      "....................................................................................................\n",
      "----------------------------------------------------------------------\n",
      "Ran 100 tests in 0.151s\n",
      "\n",
      "OK\n"
     ]
    }
   ],
   "source": [
    "# This will test your function \n",
    "test_alpha(sort_alpha)"
   ]
  },
  {
   "cell_type": "markdown",
   "metadata": {},
   "source": [
    "## 12. Write a function to check if a given password is strong (at least 8 characters, at least one lower case, at least one upper case, at least one number and at least one special character). It should output True if strong and False if not.\n",
    "`Valid special characters: # @ ! $ % & ( ) ^ * [ ] { }`"
   ]
  },
  {
   "cell_type": "code",
   "execution_count": 4,
   "metadata": {},
   "outputs": [],
   "source": [
    "from string import ascii_lowercase, ascii_uppercase, digits\n",
    "def check_pass(string):\n",
    "    \"\"\"\n",
    "    Esta función recibe una string que contiene diferentes caracteres y devuelve strong si cumple requisitos\n",
    "    Args:\n",
    "        string (str): password definida por un conjunto de caracteres\n",
    "    Returns: \n",
    "        strong (bool): True si cumple requisitos\n",
    "    \"\"\"\n",
    "    especiales='#@!$%&()^*[]{}' # los creo yo porque no coinciden con from string import punctuation\n",
    "    \n",
    "    count = 0\n",
    "    low = False\n",
    "    up = False\n",
    "    especia = False\n",
    "    ocho = False\n",
    "    num = False\n",
    "    strong = False\n",
    "    \n",
    "    for s in string:\n",
    "        count += 1\n",
    "        if count >= 8:\n",
    "            ocho = True\n",
    "        if s in ascii_lowercase:\n",
    "            low = True\n",
    "        elif s in ascii_uppercase:\n",
    "            up = True\n",
    "        elif s in digits:\n",
    "            num = True\n",
    "        elif s in especiales:\n",
    "            especia = True\n",
    "        else:\n",
    "            pass\n",
    "    \n",
    "    if low and up and especia and ocho and num:\n",
    "        strong = True\n",
    "    else:\n",
    "        pass\n",
    "    \n",
    "    return strong"
   ]
  },
  {
   "cell_type": "code",
   "execution_count": 5,
   "metadata": {},
   "outputs": [
    {
     "name": "stderr",
     "output_type": "stream",
     "text": [
      "....................................................................................................\n",
      "----------------------------------------------------------------------\n",
      "Ran 100 tests in 0.175s\n",
      "\n",
      "OK\n"
     ]
    }
   ],
   "source": [
    "# This will test your function \n",
    "test_pass(check_pass)"
   ]
  },
  {
   "cell_type": "code",
   "execution_count": null,
   "metadata": {},
   "outputs": [],
   "source": []
  }
 ],
 "metadata": {
  "kernelspec": {
   "display_name": "Python 3 (ipykernel)",
   "language": "python",
   "name": "python3"
  },
  "language_info": {
   "codemirror_mode": {
    "name": "ipython",
    "version": 3
   },
   "file_extension": ".py",
   "mimetype": "text/x-python",
   "name": "python",
   "nbconvert_exporter": "python",
   "pygments_lexer": "ipython3",
   "version": "3.10.9"
  }
 },
 "nbformat": 4,
 "nbformat_minor": 4
}
