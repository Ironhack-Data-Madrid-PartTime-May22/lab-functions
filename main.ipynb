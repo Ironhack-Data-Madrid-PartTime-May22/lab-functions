{
 "cells": [
  {
   "cell_type": "markdown",
   "metadata": {},
   "source": [
    "# Functions"
   ]
  },
  {
   "cell_type": "markdown",
   "metadata": {},
   "source": [
    "On this lab we will put to practice some of the concepts we have learned on this past few days.\n",
    "\n",
    "`NOTE: On this lab you should try to write all the functions yourself using only the most basic of python syntax and without functions such as len, count, sum, max, min, in, etc. Give it a try. 🧑🏻‍💻👩🏻‍💻`\n",
    "\n",
    "The cell after each exercise contains a few tests to check if your function works as expected."
   ]
  },
  {
   "cell_type": "code",
   "execution_count": 36,
   "metadata": {},
   "outputs": [],
   "source": [
    "from mod.testing import *\n",
    "import unittest"
   ]
  },
  {
   "cell_type": "markdown",
   "metadata": {},
   "source": [
    "## 1. Write a function that returns the greater of two numbers"
   ]
  },
  {
   "cell_type": "code",
   "execution_count": 8,
   "metadata": {},
   "outputs": [
    {
     "data": {
      "text/plain": [
       "5"
      ]
     },
     "execution_count": 8,
     "metadata": {},
     "output_type": "execute_result"
    }
   ],
   "source": [
    "def greater(a,b):\n",
    "    if a > b:\n",
    "        return a\n",
    "    elif a < b:\n",
    "        return b\n",
    "    else:\n",
    "        pass"
   ]
  },
  {
   "cell_type": "code",
   "execution_count": 15,
   "metadata": {},
   "outputs": [
    {
     "name": "stderr",
     "output_type": "stream",
     "text": [
      "....................................................................................................\n",
      "----------------------------------------------------------------------\n",
      "Ran 100 tests in 0.171s\n",
      "\n",
      "OK\n"
     ]
    }
   ],
   "source": [
    "# This will test your function \n",
    "test_greater(greater)"
   ]
  },
  {
   "cell_type": "markdown",
   "metadata": {},
   "source": [
    "## 2. Now write a function that returns the largest element on a list"
   ]
  },
  {
   "cell_type": "code",
   "execution_count": 25,
   "metadata": {},
   "outputs": [
    {
     "data": {
      "text/plain": [
       "24"
      ]
     },
     "execution_count": 25,
     "metadata": {},
     "output_type": "execute_result"
    }
   ],
   "source": [
    "def greatest(arr):\n",
    "    largest = 0\n",
    "    for i in arr:\n",
    "        if i > largest:\n",
    "            largest = i\n",
    "        else:\n",
    "            largest = largest\n",
    "    return largest"
   ]
  },
  {
   "cell_type": "code",
   "execution_count": 26,
   "metadata": {},
   "outputs": [
    {
     "name": "stderr",
     "output_type": "stream",
     "text": [
      "....................................................................................................\n",
      "----------------------------------------------------------------------\n",
      "Ran 100 tests in 0.155s\n",
      "\n",
      "OK\n"
     ]
    }
   ],
   "source": [
    "# This will test your function \n",
    "test_greatest(greatest)"
   ]
  },
  {
   "cell_type": "markdown",
   "metadata": {},
   "source": [
    "## 3. Write a function that sums all the elements on a list"
   ]
  },
  {
   "cell_type": "code",
   "execution_count": 27,
   "metadata": {},
   "outputs": [],
   "source": [
    "def sum_all(arr):\n",
    "    sumaditos = 0\n",
    "    for i in arr:\n",
    "        sumaditos += i\n",
    "    return sumaditos"
   ]
  },
  {
   "cell_type": "code",
   "execution_count": 28,
   "metadata": {},
   "outputs": [
    {
     "name": "stderr",
     "output_type": "stream",
     "text": [
      "....................................................................................................\n",
      "----------------------------------------------------------------------\n",
      "Ran 100 tests in 0.139s\n",
      "\n",
      "OK\n"
     ]
    }
   ],
   "source": [
    "# This will test your function \n",
    "test_sum(sum_all)"
   ]
  },
  {
   "cell_type": "markdown",
   "metadata": {},
   "source": [
    "## 4. Write another function that multiplies all the elements on a list"
   ]
  },
  {
   "cell_type": "code",
   "execution_count": 34,
   "metadata": {},
   "outputs": [],
   "source": [
    "def mult_all(arr):\n",
    "    multiplicaditos = 1\n",
    "    for i in arr:\n",
    "        multiplicaditos = multiplicaditos*i\n",
    "    return multiplicaditos"
   ]
  },
  {
   "cell_type": "code",
   "execution_count": 35,
   "metadata": {},
   "outputs": [
    {
     "name": "stderr",
     "output_type": "stream",
     "text": [
      "....................................................................................................\n",
      "----------------------------------------------------------------------\n",
      "Ran 100 tests in 0.189s\n",
      "\n",
      "OK\n"
     ]
    }
   ],
   "source": [
    "# This will test your function \n",
    "test_mult(mult_all)"
   ]
  },
  {
   "cell_type": "markdown",
   "metadata": {},
   "source": [
    "## 5. Now combine those two ideas and write a function that receives a list and either \"+\" or \"*\" and outputs acordingly"
   ]
  },
  {
   "cell_type": "code",
   "execution_count": 36,
   "metadata": {},
   "outputs": [],
   "source": [
    "def oper_all(arr, oper):\n",
    "    if oper == '+':\n",
    "        sumaditos = 0\n",
    "        for i in arr:\n",
    "            sumaditos += i\n",
    "        return sumaditos\n",
    "    elif oper == '*':\n",
    "        multiplicaditos = 1\n",
    "        for i in arr:\n",
    "            multiplicaditos = multiplicaditos*i\n",
    "        return multiplicaditos\n",
    "    else:\n",
    "        pass"
   ]
  },
  {
   "cell_type": "code",
   "execution_count": 37,
   "metadata": {},
   "outputs": [
    {
     "name": "stderr",
     "output_type": "stream",
     "text": [
      "....................................................................................................\n",
      "----------------------------------------------------------------------\n",
      "Ran 100 tests in 0.156s\n",
      "\n",
      "OK\n"
     ]
    }
   ],
   "source": [
    "# This will test your function \n",
    "test_operations(oper_all)"
   ]
  },
  {
   "cell_type": "markdown",
   "metadata": {},
   "source": [
    "## 6. Write a function that returns the factorial of a number."
   ]
  },
  {
   "cell_type": "code",
   "execution_count": 2,
   "metadata": {},
   "outputs": [],
   "source": [
    "def factorial(n):\n",
    "    result = 1\n",
    "    for i in range(1,n+1):\n",
    "        result *= i\n",
    "    return result"
   ]
  },
  {
   "cell_type": "code",
   "execution_count": 3,
   "metadata": {},
   "outputs": [
    {
     "name": "stderr",
     "output_type": "stream",
     "text": [
      "....................................................................................................\n",
      "----------------------------------------------------------------------\n",
      "Ran 100 tests in 0.160s\n",
      "\n",
      "OK\n"
     ]
    }
   ],
   "source": [
    "# This will test your function \n",
    "test_factorial(factorial)"
   ]
  },
  {
   "cell_type": "markdown",
   "metadata": {},
   "source": [
    "## 7. Write a function that takes a list and returns a list of the unique values.\n",
    "\n",
    "`NOTE: You cannot use set. 🤔`"
   ]
  },
  {
   "cell_type": "code",
   "execution_count": 19,
   "metadata": {},
   "outputs": [],
   "source": [
    "def unique(arr):\n",
    "    unicos = []\n",
    "    for i in arr:\n",
    "        if i not in unicos:\n",
    "            unicos.append(i)\n",
    "        else:\n",
    "            pass\n",
    "    return unicos"
   ]
  },
  {
   "cell_type": "code",
   "execution_count": 20,
   "metadata": {},
   "outputs": [
    {
     "name": "stderr",
     "output_type": "stream",
     "text": [
      "....................................................................................................\n",
      "----------------------------------------------------------------------\n",
      "Ran 100 tests in 0.212s\n",
      "\n",
      "OK\n"
     ]
    }
   ],
   "source": [
    "# This will test your function \n",
    "test_unique(unique)"
   ]
  },
  {
   "cell_type": "markdown",
   "metadata": {},
   "source": [
    "## 8. Write a function that returns the mode of a list, i.e.: the element that appears the most times.\n",
    "`NOTE: You should not use count... 🧐`"
   ]
  },
  {
   "cell_type": "code",
   "execution_count": 70,
   "metadata": {},
   "outputs": [],
   "source": [
    "def mode_counter(arr):\n",
    "    contador = {}\n",
    "    for i in arr:\n",
    "        if i in contador:\n",
    "            contador[i] += 1\n",
    "        else:\n",
    "            contador[i] = 1\n",
    "    modista = None\n",
    "    repeticiones = 0\n",
    "    for k in contador:\n",
    "        if contador[k] > repeticiones:\n",
    "            modista = k\n",
    "            repeticiones = contador[k]\n",
    "        else:\n",
    "            modista = modista\n",
    "    return modista"
   ]
  },
  {
   "cell_type": "code",
   "execution_count": 71,
   "metadata": {},
   "outputs": [
    {
     "name": "stderr",
     "output_type": "stream",
     "text": [
      "....................................................................................................\n",
      "----------------------------------------------------------------------\n",
      "Ran 100 tests in 0.184s\n",
      "\n",
      "OK\n"
     ]
    }
   ],
   "source": [
    "# This will test your function \n",
    "test_mode(mode_counter)"
   ]
  },
  {
   "cell_type": "markdown",
   "metadata": {},
   "source": [
    "## 9. Write a function that calculates the standard deviation of a list.\n",
    "`NOTE: Do not use any libraries or already built functions. 😉`"
   ]
  },
  {
   "cell_type": "code",
   "execution_count": 85,
   "metadata": {},
   "outputs": [
    {
     "name": "stdout",
     "output_type": "stream",
     "text": [
      "1.9518001458970664\n"
     ]
    }
   ],
   "source": [
    "def st_dev(arr):\n",
    "    desviasao = 0\n",
    "    N = len(arr)\n",
    "    xi = 0\n",
    "    xmean = 0\n",
    "    for i in arr:\n",
    "        xmean +=i\n",
    "    xmean = xmean / N\n",
    "    for i in arr:\n",
    "        desviasao = desviasao + ((i-xmean)**2/(N-1))\n",
    "    desviasao = desviasao ** (1/2)\n",
    "    return desviasao"
   ]
  },
  {
   "cell_type": "code",
   "execution_count": 86,
   "metadata": {},
   "outputs": [
    {
     "name": "stderr",
     "output_type": "stream",
     "text": [
      "....................................................................................................\n",
      "----------------------------------------------------------------------\n",
      "Ran 100 tests in 0.147s\n",
      "\n",
      "OK\n"
     ]
    }
   ],
   "source": [
    "# This will test your function \n",
    "test_stdev(st_dev)"
   ]
  },
  {
   "cell_type": "markdown",
   "metadata": {},
   "source": [
    "## 10. Write a function to check if a string is a pangram, i.e.: if it contains all the letters of the alphabet at least once. Mind that the strings may contain characters that are not letters."
   ]
  },
  {
   "cell_type": "code",
   "execution_count": 98,
   "metadata": {},
   "outputs": [],
   "source": [
    "from string import ascii_lowercase, punctuation\n",
    "def pangram(string):\n",
    "    alphabet = ascii_lowercase\n",
    "    pangrama = True\n",
    "    dicto = {}\n",
    "    exit = False\n",
    "    nuevo_item = {}\n",
    "    \n",
    "    string = string.lower()\n",
    "    for s in string:\n",
    "        for p in punctuation:\n",
    "            if s == p:\n",
    "                string.strip(p)\n",
    "            else:\n",
    "                pass\n",
    "            \n",
    "    print(string)\n",
    "    for s in string:\n",
    "        for a in alphabet:\n",
    "            if a not in dicto:\n",
    "                if s != a:\n",
    "                    nuevo_item = {a: False}\n",
    "                    dicto.update(nuevo_item)\n",
    "                if s == a:\n",
    "                    nuevo_item = {a: True}\n",
    "                    dicto.update(nuevo_item)\n",
    "            else:\n",
    "                if s == a:\n",
    "                    nuevo_item = {a: True}\n",
    "                    dicto.update(nuevo_item)\n",
    "        if exit:\n",
    "            break\n",
    "            \n",
    "    for k in dicto:\n",
    "        if dicto[k]:\n",
    "            pass\n",
    "        else:\n",
    "            pangrama = False\n",
    "            print('*No es un pangrama*')\n",
    "            break\n",
    "    if pangrama:\n",
    "        print('*Es un pangrama*')\n",
    "        \n",
    "    return pangrama"
   ]
  },
  {
   "cell_type": "code",
   "execution_count": 99,
   "metadata": {},
   "outputs": [
    {
     "name": "stderr",
     "output_type": "stream",
     "text": [
      "..............................\n",
      "----------------------------------------------------------------------\n",
      "Ran 30 tests in 0.085s\n",
      "\n",
      "OK\n"
     ]
    },
    {
     "name": "stdout",
     "output_type": "stream",
     "text": [
      "waltz, nymph, for quick jigs vex bud.\n",
      "*Es un pangrama*\n",
      "sphinx of black quartz, judge my vow.\n",
      "*Es un pangrama*\n",
      "pack my box with five dozen liquor jugs.\n",
      "*Es un pangrama*\n",
      "glib jocks quiz nymph to vex dwarf.\n",
      "*Es un pangrama*\n",
      "jackdaws love my big sphinx of quartz.\n",
      "*Es un pangrama*\n",
      "the five boxing wizards jump quickly.\n",
      "*Es un pangrama*\n",
      "how vexingly quick daft zebras jump!\n",
      "*Es un pangrama*\n",
      "quick zephyrs blow, vexing daft jim.\n",
      "*Es un pangrama*\n",
      "two driven jocks help fax my big quiz.\n",
      "*Es un pangrama*\n",
      "the jay, pig, fox, zebra and my wolves quack!\n",
      "*Es un pangrama*\n",
      "sympathizing would fix quaker objectives.\n",
      "*Es un pangrama*\n",
      "a wizard's job is to vex chumps quickly in fog.\n",
      "*Es un pangrama*\n",
      "watch 'jeopardy!', alex trebek's fun tv quiz game.\n",
      "*Es un pangrama*\n",
      "by jove, my quick study of lexicography won a prize!\n",
      "*Es un pangrama*\n",
      "waxy and quivering, jocks fumble the pizza.\n",
      "*Es un pangrama*\n",
      "zghirqizgvknrnzolpnskfghaxaftotretystjoupejnghsqqckkv\n",
      "*No es un pangrama*\n",
      "fkabaycxmrqtrgksgogdqbhnxnhlbjwzefqdaycjhmykrqafhfcwnxxtninntxfnyvmozdvniuwuaqfycwfwkqnhxnxiqcbewzpp\n",
      "*Es un pangrama*\n",
      "wicazyvsgstlctwzencolyzundjcztyfbkbacktypgsumclpms\n",
      "*No es un pangrama*\n",
      "fwnmhxsmlnttxiajbgzezeksedxfvuihfztugaccdlifhtneztqpulnotsgbqzsycjisowsvgee\n",
      "*No es un pangrama*\n",
      "teyiotqlyzsigyfdyieifkxwwffovalfglosceggoyxmcevjgsxvozdkbbbvlarzipzhvomfgvai\n",
      "*No es un pangrama*\n",
      "rederauvefoivfvxskflcqulbmfxhkjaygckxkrgrevnkkdbddwiewukazqpfwhawvyajaelfqzbiwub\n",
      "*No es un pangrama*\n",
      "nhlxcjgoidmcdiuawyrapasiinqvezyreo\n",
      "*No es un pangrama*\n",
      "hjaztvvktswpopkmykampjtgjpgqosapvegzj\n",
      "*No es un pangrama*\n",
      "ysszxzrcuedoxankrbhjnoerervohjpklxwhjgrkzstnulifnvuafrrcjfwotzdjxogquuwtmhxnnlkbd\n",
      "*Es un pangrama*\n",
      "msxfcfqhkhbwfnskqlkvjtzhllidjzkmdgjy\n",
      "*No es un pangrama*\n",
      "rwlbikhjvwrqjvkyithglnjkrjtderkuzzbirxpfszxzbijfrglcfskfoyvanugmkixfiagyaoohrqskcdllsauzh\n",
      "*Es un pangrama*\n",
      "jewzclqlgefrzdmstbafvbyfvunqsnlztviznxwunlzd\n",
      "*No es un pangrama*\n",
      "mcpghlzrvfmswdlmrjfyzfvaosahpikbjkhqparwalvfiofewwavufmoznhajtglcauktzrzjlcqoegdtowqtcsvfv\n",
      "*No es un pangrama*\n",
      "jvtzjqunvoywmtsvqqqceptozz\n",
      "*No es un pangrama*\n",
      "xspgodktrfjsczcprfxyqtvlwzkbbxollxfdcuinkcsqkeuaqbxmjdnpotziuhspfkgt\n",
      "*Es un pangrama*\n"
     ]
    }
   ],
   "source": [
    "# This will test your function \n",
    "test_pangram(pangram)"
   ]
  },
  {
   "cell_type": "markdown",
   "metadata": {},
   "source": [
    "## 11. Write a function that receives a string of comma separated words and returns a string of comma separated words sorted alphabetically.\n",
    "\n",
    "`NOTE: You may use sorted but not split and definitely no join! 🤪`"
   ]
  },
  {
   "cell_type": "code",
   "execution_count": 239,
   "metadata": {},
   "outputs": [
    {
     "data": {
      "text/plain": [
       "'bbbbbb,caaaaa,gggggg,jaaaaa,kkkk,rrrrrr'"
      ]
     },
     "execution_count": 239,
     "metadata": {},
     "output_type": "execute_result"
    }
   ],
   "source": [
    "def sort_alpha(string):\n",
    "    ordenada = []\n",
    "    lista = []\n",
    "    palabra = ''\n",
    "    result = ''\n",
    "    \n",
    "    anterior = -1\n",
    "    longitud = 0\n",
    "    string = string + ','\n",
    "    \n",
    "    for s in string:\n",
    "        if s == ',':\n",
    "            palabra = string[anterior + 1:longitud]\n",
    "            lista.append(palabra)\n",
    "            anterior = longitud\n",
    "\n",
    "        else:\n",
    "            pass\n",
    "        \n",
    "        longitud += 1\n",
    "\n",
    "    ordenada = sorted(lista)\n",
    "    \n",
    "    for o in ordenada:\n",
    "        result = result + ',' + o\n",
    "    \n",
    "    result = result.lstrip(',')\n",
    "    return result"
   ]
  },
  {
   "cell_type": "code",
   "execution_count": 240,
   "metadata": {},
   "outputs": [
    {
     "name": "stderr",
     "output_type": "stream",
     "text": [
      "....................................................................................................\n",
      "----------------------------------------------------------------------\n",
      "Ran 100 tests in 0.154s\n",
      "\n",
      "OK\n"
     ]
    }
   ],
   "source": [
    "# This will test your function \n",
    "test_alpha(sort_alpha)"
   ]
  },
  {
   "cell_type": "markdown",
   "metadata": {},
   "source": [
    "## 12. Write a function to check if a given password is strong (at least 8 characters, at least one lower case, at least one upper case, at least one number and at least one special character). It should output True if strong and False if not.\n",
    "`Valid special characters: # @ ! $ % & ( ) ^ * [ ] { }`"
   ]
  },
  {
   "cell_type": "code",
   "execution_count": 284,
   "metadata": {},
   "outputs": [
    {
     "name": "stdout",
     "output_type": "stream",
     "text": [
      "True\n"
     ]
    }
   ],
   "source": [
    "from string import ascii_lowercase, ascii_uppercase, digits\n",
    "def check_pass(string):\n",
    "    especiales='#@!$%&()^*[]{}'\n",
    "    \n",
    "    count = 0\n",
    "    low = False\n",
    "    up = False\n",
    "    especia = False\n",
    "    ocho = False\n",
    "    num = False\n",
    "    strong = False\n",
    "    \n",
    "    for s in string:\n",
    "        count += 1\n",
    "        if count >= 8:\n",
    "            ocho = True\n",
    "        if s in ascii_lowercase:\n",
    "            low = True\n",
    "        elif s in ascii_uppercase:\n",
    "            up = True\n",
    "        elif s in digits:\n",
    "            num = True\n",
    "        elif s in especiales:\n",
    "            especia = True\n",
    "        else:\n",
    "            pass\n",
    "    \n",
    "    if low and up and especia and ocho and num:\n",
    "        strong = True\n",
    "    else:\n",
    "        pass\n",
    "    \n",
    "    return strong\n",
    "\n",
    "print(check_pass('ndp(Assi3r4ni333'))"
   ]
  },
  {
   "cell_type": "code",
   "execution_count": 285,
   "metadata": {},
   "outputs": [
    {
     "name": "stderr",
     "output_type": "stream",
     "text": [
      "....................................................................................................\n",
      "----------------------------------------------------------------------\n",
      "Ran 100 tests in 0.178s\n",
      "\n",
      "OK\n"
     ]
    }
   ],
   "source": [
    "# This will test your function \n",
    "test_pass(check_pass)"
   ]
  },
  {
   "cell_type": "code",
   "execution_count": null,
   "metadata": {},
   "outputs": [],
   "source": []
  }
 ],
 "metadata": {
  "kernelspec": {
   "display_name": "Python 3 (ipykernel)",
   "language": "python",
   "name": "python3"
  },
  "language_info": {
   "codemirror_mode": {
    "name": "ipython",
    "version": 3
   },
   "file_extension": ".py",
   "mimetype": "text/x-python",
   "name": "python",
   "nbconvert_exporter": "python",
   "pygments_lexer": "ipython3",
   "version": "3.10.9"
  }
 },
 "nbformat": 4,
 "nbformat_minor": 4
}
